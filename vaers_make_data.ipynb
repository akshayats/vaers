{
 "cells": [
  {
   "cell_type": "code",
   "execution_count": 28,
   "id": "4c339712-0e7b-4524-af8e-0722a37d766d",
   "metadata": {},
   "outputs": [],
   "source": [
    "import pandas as pd\n",
    "import csv\n",
    "import pickle\n",
    "\n",
    "pd.set_option('display.max_columns', 500)"
   ]
  },
  {
   "cell_type": "code",
   "execution_count": 29,
   "id": "fe1e06c2-f323-416f-8a32-e745df73a73f",
   "metadata": {},
   "outputs": [],
   "source": [
    "data_filename = \"2020VAERSDATA\"\n",
    "vax_filename = \"2020VAERSVAX\"\n",
    "symptoms_filename = \"2020VAERSSYMPTOMS\""
   ]
  },
  {
   "cell_type": "markdown",
   "id": "d261161f-f8dc-42d3-be26-79158b612f8b",
   "metadata": {},
   "source": [
    "DATA File"
   ]
  },
  {
   "cell_type": "code",
   "execution_count": 30,
   "id": "983ef2f2-e988-4cf8-aaf9-8c22695d3226",
   "metadata": {},
   "outputs": [
    {
     "name": "stdout",
     "output_type": "stream",
     "text": [
      "VAERS_ID          int64\n",
      "RECVDATE         object\n",
      "STATE            object\n",
      "AGE_YRS         float64\n",
      "CAGE_YR         float64\n",
      "CAGE_MO         float64\n",
      "SEX              object\n",
      "RPT_DATE         object\n",
      "SYMPTOM_TEXT     object\n",
      "DIED             object\n",
      "DATEDIED         object\n",
      "L_THREAT         object\n",
      "ER_VISIT         object\n",
      "HOSPITAL         object\n",
      "HOSPDAYS        float64\n",
      "X_STAY           object\n",
      "DISABLE          object\n",
      "RECOVD           object\n",
      "VAX_DATE         object\n",
      "ONSET_DATE       object\n",
      "NUMDAYS         float64\n",
      "LAB_DATA         object\n",
      "V_ADMINBY        object\n",
      "V_FUNDBY         object\n",
      "OTHER_MEDS       object\n",
      "CUR_ILL          object\n",
      "HISTORY          object\n",
      "PRIOR_VAX        object\n",
      "SPLTTYPE         object\n",
      "FORM_VERS         int64\n",
      "TODAYS_DATE      object\n",
      "BIRTH_DEFECT     object\n",
      "OFC_VISIT        object\n",
      "ER_ED_VISIT      object\n",
      "ALLERGIES        object\n",
      "dtype: object\n",
      "   VAERS_ID                                       SYMPTOM_TEXT\n",
      "0    855017  Symptoms occurred almost immediately- aching j...\n",
      "1    855018  Extreme pain, muscle weakness in right arm so ...\n",
      "2    855019            SORENESS IN THE AREA.  ITCHING AND RASH\n",
      "3    855020  sore arm,  fever 101 , chills, and aching musc...\n",
      "4    855021  Patient presented to Clinic today 1/1/2020. Sh...\n"
     ]
    },
    {
     "name": "stderr",
     "output_type": "stream",
     "text": [
      "/tmp/ipykernel_1603769/988807811.py:2: DtypeWarning: Columns (7,9,10,12,15,16,23,31) have mixed types. Specify dtype option on import or set low_memory=False.\n",
      "  df = pd.read_csv(data_filename+\".csv\", encoding='windows-1252')\n"
     ]
    }
   ],
   "source": [
    "# read in csv file\n",
    "df = pd.read_csv(data_filename+\".csv\", encoding='windows-1252')\n",
    "relevant_data_cols = [\"VAERS_ID\",\"SYMPTOM_TEXT\"]\n",
    "print(df.dtypes)\n",
    "print(df[relevant_data_cols].head())\n",
    "\n",
    "# save data into a pickle file\n",
    "with open(data_filename+\".pickle\", 'wb') as fh:\n",
    "    pickle.dump([df, relevant_data_cols], fh)"
   ]
  },
  {
   "cell_type": "markdown",
   "id": "843c4502-58e2-4e92-b458-da643ab65a6c",
   "metadata": {},
   "source": [
    "VACCINE File"
   ]
  },
  {
   "cell_type": "code",
   "execution_count": 32,
   "id": "ac285d03-d74b-43f7-b7c8-ebd0893e3ddf",
   "metadata": {},
   "outputs": [
    {
     "name": "stdout",
     "output_type": "stream",
     "text": [
      "VAERS_ID            int64\n",
      "VAX_TYPE           object\n",
      "VAX_MANU           object\n",
      "VAX_LOT            object\n",
      "VAX_DOSE_SERIES    object\n",
      "VAX_ROUTE          object\n",
      "VAX_SITE           object\n",
      "VAX_NAME           object\n",
      "dtype: object\n",
      "   VAERS_ID                       VAX_NAME\n",
      "0    855017              ZOSTER (SHINGRIX)\n",
      "1    855018  VACCINE NOT SPECIFIED (OTHER)\n",
      "2    855019              ZOSTER (SHINGRIX)\n",
      "3    855020              ZOSTER (SHINGRIX)\n",
      "4    855021              ZOSTER (SHINGRIX)\n"
     ]
    }
   ],
   "source": [
    "# read in csv file\n",
    "df = pd.read_csv(vax_filename+\".csv\", encoding='windows-1252')\n",
    "relevant_vax_cols = [\"VAERS_ID\",\"VAX_NAME\"]\n",
    "print(df.dtypes)\n",
    "print(df[relevant_vax_cols].head())\n",
    "\n",
    "# save data into a pickle file\n",
    "with open(vax_filename+\".pickle\", 'wb') as fh:\n",
    "    pickle.dump([df, relevant_vax_cols], fh)"
   ]
  },
  {
   "cell_type": "markdown",
   "id": "6af4b5a0-f312-40a2-8692-0f787e93943c",
   "metadata": {},
   "source": [
    "SYMPTOM File"
   ]
  },
  {
   "cell_type": "code",
   "execution_count": 34,
   "id": "7d3c3eb5-f32b-46fb-b0a5-6f9a32ec7b59",
   "metadata": {},
   "outputs": [
    {
     "name": "stdout",
     "output_type": "stream",
     "text": [
      "VAERS_ID             int64\n",
      "SYMPTOM1            object\n",
      "SYMPTOMVERSION1    float64\n",
      "SYMPTOM2            object\n",
      "SYMPTOMVERSION2    float64\n",
      "SYMPTOM3            object\n",
      "SYMPTOMVERSION3    float64\n",
      "SYMPTOM4            object\n",
      "SYMPTOMVERSION4    float64\n",
      "SYMPTOM5            object\n",
      "SYMPTOMVERSION5    float64\n",
      "dtype: object\n",
      "   VAERS_ID           SYMPTOM1                SYMPTOM2             SYMPTOM3  \\\n",
      "0    855017         Arthralgia                  Chills  Injection site pain   \n",
      "1    855018             Chills                 Fatigue         Hypertension   \n",
      "2    855018  Muscular weakness       Pain in extremity              Pyrexia   \n",
      "3    855019               Pain                Pruritus                 Rash   \n",
      "4    855020             Chills  Influenza like illness              Myalgia   \n",
      "\n",
      "            SYMPTOM4                          SYMPTOM5  \n",
      "0            Pyrexia                               NaN  \n",
      "1      Hypoaesthesia  Injected limb mobility decreased  \n",
      "2             Tremor                           Vertigo  \n",
      "3                NaN                               NaN  \n",
      "4  Pain in extremity                           Pyrexia  \n"
     ]
    }
   ],
   "source": [
    "# read in csv file\n",
    "df = pd.read_csv(symptoms_filename+\".csv\", encoding='windows-1252')\n",
    "relevant_symptoms_cols = [\"VAERS_ID\",\"SYMPTOM1\",\"SYMPTOM2\",\"SYMPTOM3\",\"SYMPTOM4\",\"SYMPTOM5\"]\n",
    "print(df.dtypes)\n",
    "print(df[relevant_symptoms_cols].head())\n",
    "\n",
    "# save data into a pickle file\n",
    "with open(symptoms_filename+\".pickle\", 'wb') as fh:\n",
    "    pickle.dump([df, relevant_symptoms_cols], fh)"
   ]
  }
 ],
 "metadata": {
  "kernelspec": {
   "display_name": "Python [conda env:icu] *",
   "language": "python",
   "name": "conda-env-icu-py"
  },
  "language_info": {
   "codemirror_mode": {
    "name": "ipython",
    "version": 3
   },
   "file_extension": ".py",
   "mimetype": "text/x-python",
   "name": "python",
   "nbconvert_exporter": "python",
   "pygments_lexer": "ipython3",
   "version": "3.12.7"
  }
 },
 "nbformat": 4,
 "nbformat_minor": 5
}
